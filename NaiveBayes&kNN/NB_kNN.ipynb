{
 "cells": [
  {
   "cell_type": "markdown",
   "metadata": {},
   "source": [
    "# Data Preprocessing\n",
    "\n",
    "Min-max scaling of our features"
   ]
  },
  {
   "cell_type": "code",
   "execution_count": 26,
   "metadata": {},
   "outputs": [],
   "source": [
    "import pandas as pd\n",
    "import numpy as np  \n",
    "import os"
   ]
  },
  {
   "cell_type": "code",
   "execution_count": 27,
   "metadata": {},
   "outputs": [
    {
     "name": "stdout",
     "output_type": "stream",
     "text": [
      "<bound method NDFrame.head of             2         7         8        11        14        15        17  \\\n",
      "0   -0.684000 -0.113000  0.401000 -0.251000 -0.178000  0.321000  0.016000   \n",
      "1   -0.529000 -0.066000 -0.168000 -0.205000  0.020000  0.031000 -0.165000   \n",
      "2   -0.240000  0.031000 -0.077000 -0.036000 -0.005000  0.170000  0.212000   \n",
      "3   -0.062000 -0.143000  0.068000 -0.295000 -0.188000 -0.317000 -0.113000   \n",
      "4   -0.203000 -0.168000  0.008000  0.166000 -0.048000 -0.291000 -0.091000   \n",
      "..        ...       ...       ...       ...       ...       ...       ...   \n",
      "391 -0.240811  0.160049 -0.172790  0.431347  0.430861 -0.305451 -0.119770   \n",
      "392 -0.179418 -0.000023 -0.260852  0.237564 -0.080075 -0.354038 -0.004051   \n",
      "393 -0.553610 -0.005744 -0.068708 -0.253044  0.017528 -0.070628 -0.172178   \n",
      "394  0.203276 -0.036268 -0.253699  0.382949  0.295444  0.049701 -0.245894   \n",
      "395 -0.221108  0.450663 -0.293762  0.042793  0.153844 -0.268618 -0.083691   \n",
      "\n",
      "           18        21        22  ...        53        54        56  \\\n",
      "0   -0.003000 -0.275000 -0.162000  ... -0.334000 -0.263000 -0.075000   \n",
      "1   -0.026000 -0.130000  0.176000  ...  0.216000 -0.064000  0.004000   \n",
      "2    0.138000 -0.300000  0.689000  ... -0.027000 -0.149000  0.102000   \n",
      "3    0.018000 -0.272000 -0.531000  ...  0.389000 -0.245000 -0.153000   \n",
      "4    0.062000  0.026000 -0.036000  ...  0.032000  0.043000 -0.099000   \n",
      "..        ...       ...       ...  ...       ...       ...       ...   \n",
      "391 -0.118006  0.160183 -0.901993  ... -0.306867  0.214024  0.228945   \n",
      "392 -0.026284 -0.041484  0.033320  ... -0.285406  0.022806 -0.073043   \n",
      "393 -0.100074 -0.106106 -0.846611  ... -0.366089 -0.098186 -0.101396   \n",
      "394 -0.095935  0.080918 -0.853218  ... -0.412803  0.245236  0.161970   \n",
      "395 -0.237877 -0.046952 -0.991846  ...  0.003608 -0.018608  0.133373   \n",
      "\n",
      "           57        58        59        60        64        66        68  \n",
      "0   -0.327000 -0.198000 -0.257000 -0.205000 -0.223000 -0.136000 -0.132000  \n",
      "1   -0.305000 -0.018000 -0.230000 -0.150000 -0.151000 -0.031000 -0.097000  \n",
      "2   -0.189000 -0.112000 -0.121000  0.121000 -0.172000  0.033000 -0.321000  \n",
      "3   -0.405000 -0.102000 -0.120000 -0.141000 -0.292000 -0.078000 -0.151000  \n",
      "4   -0.188000  0.042000 -0.124000 -0.097000 -0.165000 -0.112000 -0.138000  \n",
      "..        ...       ...       ...       ...       ...       ...       ...  \n",
      "391  0.206469 -0.081721  0.104964  0.352103  0.319949  0.160157 -0.052955  \n",
      "392 -0.207927 -0.091690 -0.157788 -0.137062 -0.001237 -0.015542  0.175237  \n",
      "393  0.115763 -0.169348 -0.001617  0.531042 -0.260318 -0.063138 -0.627228  \n",
      "394  0.013784  0.061287 -0.004070  0.369111  0.117017  0.084721  0.167364  \n",
      "395 -0.347922  0.001645 -0.137182  0.173900 -0.153887 -0.058649  0.089997  \n",
      "\n",
      "[396 rows x 30 columns]>\n"
     ]
    }
   ],
   "source": [
    "# For reproducibility of results\n",
    "np.random.seed(0)\n",
    "\n",
    "# Load the dataset if selected_features.csv does not exist\n",
    "if os.path.exists(\"selected_features.csv\"):\n",
    "    selected_features = pd.read_csv(\"selected_features.csv\")\n",
    "    print(selected_features.head)\n",
    "else:\n",
    "    file_path = \"rtfDataSet.csv\"\n",
    "    original_data = pd.read_csv(file_path)\n",
    "    # Get only our features of interest and save them to a local file \"selecte_features.csv\"\n",
    "    # 2 7 8 11 14 15 17 18 21 22 23 25 30 31 33 36 40 43 44 50 53 54 56 57 58 59 60 64 66 68\n",
    "    selected_features = original_data.iloc[:, [2,7,8,11,14,15,17,18,21,22,23,25,30,31,33,36,40,43,44,50,53,54,56,57,58,59,60,64,66,68]]    \n",
    "    # Save the selected features to a local file\n",
    "    selected_features.to_csv(\"selected_features.csv\", index=False)\n",
    "    print(original_data.head)"
   ]
  },
  {
   "cell_type": "code",
   "execution_count": 28,
   "metadata": {},
   "outputs": [
    {
     "name": "stdout",
     "output_type": "stream",
     "text": [
      "            0         1         2         3         4         5         6  \\\n",
      "0   -0.536000  0.292000 -0.684000  0.123000 -0.118000  0.346000 -0.308000   \n",
      "1   -0.496000 -0.298000 -0.529000  0.073000 -0.072000  0.107000 -0.316000   \n",
      "2    0.008000 -0.031000 -0.240000  0.178000 -0.120000  0.317000 -0.481000   \n",
      "3   -0.188000 -0.180000 -0.062000 -0.104000 -0.136000 -0.061000 -0.216000   \n",
      "4    0.038000  0.155000 -0.203000 -0.088000 -0.084000 -0.164000 -0.145000   \n",
      "..        ...       ...       ...       ...       ...       ...       ...   \n",
      "391  0.074967 -0.127350 -0.240811 -0.037584  0.035714 -0.431190 -0.154309   \n",
      "392  0.664006 -0.028111 -0.179418 -0.070884  0.048793 -0.001349 -0.187850   \n",
      "393 -0.234197 -0.058229 -0.553610 -0.097793 -0.157780  0.226956  0.416572   \n",
      "394  0.274072 -0.105900  0.203276 -0.061067 -0.100202 -0.404380 -0.085191   \n",
      "395 -0.357250 -0.068535 -0.221108 -0.036466 -0.086490 -0.069679  0.557720   \n",
      "\n",
      "            7         8         9  ...        61        62        63  \\\n",
      "0   -0.113000  0.401000 -0.399000  ... -0.135000 -0.063000 -0.410000   \n",
      "1   -0.066000 -0.168000 -0.099000  ...  0.189000  0.007000 -0.362000   \n",
      "2    0.031000 -0.077000  0.063000  ... -0.035000  0.101000 -0.098000   \n",
      "3   -0.143000  0.068000 -0.189000  ...  0.146000 -0.145000 -0.527000   \n",
      "4   -0.168000  0.008000  0.143000  ...  0.019000 -0.084000  0.164000   \n",
      "..        ...       ...       ...  ...       ...       ...       ...   \n",
      "391  0.160049 -0.172790  0.146073  ...  0.280726 -0.228779  0.195978   \n",
      "392 -0.000023 -0.260852  0.111592  ... -0.016521 -0.193006  0.130795   \n",
      "393 -0.005744 -0.068708 -0.166337  ...  0.231451 -0.174647 -0.396817   \n",
      "394 -0.036268 -0.253699  0.036598  ...  0.157804 -0.054686  0.473430   \n",
      "395  0.450663 -0.293762 -0.158755  ...  0.111058  0.235297  0.100327   \n",
      "\n",
      "           64        65        66        67        68        69  label  \n",
      "0   -0.223000 -0.599000 -0.136000 -0.329000 -0.132000 -0.266000      0  \n",
      "1   -0.151000 -0.338000 -0.031000 -0.159000 -0.097000 -0.131000      0  \n",
      "2   -0.172000 -0.290000  0.033000 -0.342000 -0.321000 -0.238000      0  \n",
      "3   -0.292000 -0.663000 -0.078000 -0.194000 -0.151000 -0.268000      0  \n",
      "4   -0.165000 -0.126000 -0.112000  0.029000 -0.138000  0.148000      1  \n",
      "..        ...       ...       ...       ...       ...       ...    ...  \n",
      "391  0.319949  0.521700  0.160157  0.226597 -0.052955 -0.098770      1  \n",
      "392 -0.001237  0.016746 -0.015542  0.273885  0.175237 -0.039909      1  \n",
      "393 -0.260318 -0.440378 -0.063138 -0.386871 -0.627228 -0.142251      1  \n",
      "394  0.117017  0.192226  0.084721 -0.029949  0.167364  0.000677      1  \n",
      "395 -0.153887  0.074823 -0.058649 -0.017991  0.089997  0.000651      1  \n",
      "\n",
      "[396 rows x 71 columns]\n"
     ]
    }
   ],
   "source": [
    "print(original_data)"
   ]
  },
  {
   "cell_type": "code",
   "execution_count": 29,
   "metadata": {},
   "outputs": [
    {
     "name": "stdout",
     "output_type": "stream",
     "text": [
      "0      0\n",
      "1      0\n",
      "2      0\n",
      "3      0\n",
      "4      1\n",
      "      ..\n",
      "391    1\n",
      "392    1\n",
      "393    1\n",
      "394    1\n",
      "395    1\n",
      "Name: label, Length: 396, dtype: int64\n"
     ]
    }
   ],
   "source": [
    "labels = original_data.iloc[:,70]\n",
    "print(labels)"
   ]
  },
  {
   "cell_type": "markdown",
   "metadata": {},
   "source": [
    "## Min-Max"
   ]
  },
  {
   "cell_type": "code",
   "execution_count": 30,
   "metadata": {},
   "outputs": [
    {
     "name": "stdout",
     "output_type": "stream",
     "text": [
      "[[0.18304732 0.49900892 0.89076305 ... 0.33932274 0.34881517 0.52682455]\n",
      " [0.26365055 0.52229931 0.43373494 ... 0.38908086 0.44834123 0.54374094]\n",
      " [0.41393656 0.5703667  0.50682731 ... 0.37456807 0.50900474 0.43547608]\n",
      " ...\n",
      " [0.25085283 0.55215857 0.51348755 ... 0.31353283 0.41787867 0.28746834]\n",
      " [0.6444493  0.53703271 0.3649004  ... 0.57430339 0.55802938 0.67151474]\n",
      " [0.42376079 0.77832656 0.33272129 ... 0.38708569 0.42213365 0.63412131]]\n"
     ]
    }
   ],
   "source": [
    "from sklearn.preprocessing import MinMaxScaler\n",
    "\n",
    "scaler = MinMaxScaler()\n",
    "dataset_normalized = scaler.fit_transform(selected_features)\n",
    "print(dataset_normalized)"
   ]
  },
  {
   "cell_type": "markdown",
   "metadata": {},
   "source": [
    "## Stratified 10-Fold Cross-Validation"
   ]
  },
  {
   "cell_type": "code",
   "execution_count": 31,
   "metadata": {},
   "outputs": [],
   "source": [
    "from sklearn.model_selection import StratifiedKFold\n",
    "# from sklearn.naive_bayes import GaussianNB\n",
    "\n",
    "\n",
    "# TODO: Initialize your features as X and labels as y\n",
    "X = dataset_normalized\n",
    "y = labels\n",
    "\n",
    "# Initialize StratifiedKFold\n",
    "skf = StratifiedKFold(n_splits=10)\n",
    "# nb = GaussianNB()\n",
    "\n",
    "\n",
    "# TODO: Implement the loop for Stratified 10-Fold CV\n",
    "for train_index, test_index in skf.split(X, y):\n",
    "    X_train, X_test = X[train_index], X[test_index]\n",
    "    y_train, y_test = y[train_index], y[test_index]\n",
    "    # TODO: Insert your classifier training and testing code here\n",
    "    # nb.fit(X_train, y_train)\n",
    "    # print(\"\\n\\nPredicted: \")\n",
    "    # print(nb.predict(X_test))\n",
    "    # print(\"\\nReal: \")\n",
    "    # print(y_test)\n",
    "    "
   ]
  },
  {
   "cell_type": "markdown",
   "metadata": {},
   "source": [
    "## Naive Bayes"
   ]
  },
  {
   "cell_type": "code",
   "execution_count": 32,
   "metadata": {},
   "outputs": [],
   "source": [
    "from sklearn.naive_bayes import GaussianNB\n",
    "\n",
    "# Initialize classifier\n",
    "nb = GaussianNB()\n",
    "\n",
    "# TODO: Fit the model with training data\n",
    "# nb.fit(X_train, y_train)\n",
    "\n",
    "# TODO: Make predictions on test data\n",
    "# y_pred = nb.predict(X_test)\n"
   ]
  },
  {
   "cell_type": "markdown",
   "metadata": {},
   "source": [
    "## k-Nearest Neighbors Classifier"
   ]
  },
  {
   "cell_type": "code",
   "execution_count": 33,
   "metadata": {},
   "outputs": [],
   "source": [
    "from sklearn.neighbors import KNeighborsClassifier\n",
    "\n",
    "# TODO: Initialize classifier with k value and metric type\n",
    "# knn = KNeighborsClassifier(n_neighbors=k, metric='euclidean')\n",
    "\n",
    "\n",
    "# TODO: Fit the model with training data\n",
    "# knn.fit(X_train, y_train)\n",
    "\n",
    "# TODO: Make predictions on test data\n",
    "# y_pred = knn.predict(X_test)\n"
   ]
  },
  {
   "cell_type": "code",
   "execution_count": 35,
   "metadata": {},
   "outputs": [],
   "source": [
    "from sklearn.neighbors import KNeighborsClassifier\n",
    "from sklearn.metrics import accuracy_score\n",
    "\n",
    "# Define the knn_classifier function\n",
    "def knn_classifier(X_train, X_test, y_train, y_test, k_values, distance_metrics):\n",
    "    results = {}\n",
    "\n",
    "    for distance_metric in distance_metrics:\n",
    "        best_k = None\n",
    "        best_accuracy = 0\n",
    "\n",
    "        for k in k_values:\n",
    "            # Create an instance of the k-NN classifier with the specified distance metric and k value.\n",
    "            knn_classifier = KNeighborsClassifier(n_neighbors=k, metric=distance_metric)\n",
    "\n",
    "            # Train the classifier with the training data.\n",
    "            knn_classifier.fit(X_train, y_train)\n",
    "\n",
    "            # Make predictions on the test data.\n",
    "            y_pred = knn_classifier.predict(X_test)\n",
    "\n",
    "            # Calculate the classifier's accuracy.\n",
    "            accuracy = accuracy_score(y_test, y_pred)\n",
    "\n",
    "            # If we find a value of k with better accuracy, update the optimal values.\n",
    "            if accuracy > best_accuracy:\n",
    "                best_k = k\n",
    "                best_accuracy = accuracy\n",
    "\n",
    "        results[distance_metric] = {'best_k': best_k, 'best_accuracy': best_accuracy}\n",
    "\n",
    "    return results"
   ]
  },
  {
   "cell_type": "code",
   "execution_count": 36,
   "metadata": {},
   "outputs": [
    {
     "name": "stdout",
     "output_type": "stream",
     "text": [
      "Best k for euclidean distance metric: 5\n",
      "Accuracy for best k: 0.8717948717948718\n",
      "\n",
      "Best k for manhattan distance metric: 3\n",
      "Accuracy for best k: 0.8461538461538461\n",
      "\n"
     ]
    }
   ],
   "source": [
    "# Call the knn_classifier function\n",
    "results = knn_classifier(X_train, X_test, y_train, y_test, k_values, distance_metrics)\n",
    "\n",
    "# Print or analyze the results\n",
    "for distance_metric, result in results.items():\n",
    "    best_k = result['best_k']\n",
    "    best_accuracy = result['best_accuracy']\n",
    "    print(f\"Best k for {distance_metric} distance metric: {best_k}\")\n",
    "    print(f\"Accuracy for best k: {best_accuracy}\\n\")"
   ]
  },
  {
   "cell_type": "markdown",
   "metadata": {},
   "source": []
  }
 ],
 "metadata": {
  "kernelspec": {
   "display_name": "URKU",
   "language": "python",
   "name": "python3"
  },
  "language_info": {
   "codemirror_mode": {
    "name": "ipython",
    "version": 3
   },
   "file_extension": ".py",
   "mimetype": "text/x-python",
   "name": "python",
   "nbconvert_exporter": "python",
   "pygments_lexer": "ipython3",
   "version": "3.10.7"
  }
 },
 "nbformat": 4,
 "nbformat_minor": 2
}
